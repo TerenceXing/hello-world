{
 "cells": [
  {
   "cell_type": "markdown",
   "metadata": {},
   "source": [
    "# Question 4\n",
    "\n",
    "### **Question:**\n",
    "\n",
    "> **_Write a program which accepts a sequence of comma-separated numbers from console and generate a list and a tuple which contains every number.Suppose the following input is \n",
    "supplied to the program:_**\n",
    "\n",
    "\n",
    "34,67,55,33,12,98\n",
    "\n",
    "\n",
    "> **_Then, the output should be:_**\n",
    "\n",
    "\n",
    "['34', '67', '55', '33', '12', '98']\n",
    "('34', '67', '55', '33', '12', '98')\n",
    "\n",
    "\n",
    "### Hints:\n",
    "\n",
    "> **_In case of input data being supplied to the question, it should be assumed to be a console input.tuple() method can convert list to tuple_**\n",
    "\n",
    "---\n",
    "\n",
    "\n",
    "\n",
    "**Solutions:**"
   ]
  },
  {
   "cell_type": "code",
   "execution_count": 20,
   "metadata": {},
   "outputs": [
    {
     "name": "stdin",
     "output_type": "stream",
     "text": [
      "Please input a sequence of numbers: 123,451,151\n"
     ]
    },
    {
     "name": "stdout",
     "output_type": "stream",
     "text": [
      "['123', '451', '151'] ('123', '451', '151')\n"
     ]
    }
   ],
   "source": [
    "x = input('Please input a sequence of numbers:')\n",
    "x_list = x.split(',')\n",
    "x_tuple = tuple(x.split(','))\n",
    "print(x_list,x_tuple) "
   ]
  },
  {
   "cell_type": "markdown",
   "metadata": {},
   "source": [
    "---\n",
    "\n",
    "# Question 5\n",
    "\n",
    "### **Question:**\n",
    "\n",
    "> **_Define a class which has at least two methods:_**\n",
    ">\n",
    "> - **_getString: to get a string from console input_**\n",
    "> - **_printString: to print the string in upper case._**\n",
    "\n",
    "> **_Also please include simple test function to test the class methods._**\n",
    "\n",
    "### Hints:\n",
    "\n",
    "> **_Use **init** method to construct some parameters_**\n",
    "\n",
    "---\n",
    "\n",
    "\n",
    "\n",
    "**Solutions:**"
   ]
  },
  {
   "cell_type": "code",
   "execution_count": 21,
   "metadata": {},
   "outputs": [
    {
     "ename": "SyntaxError",
     "evalue": "invalid syntax (<ipython-input-21-4bceda4c5ba3>, line 1)",
     "output_type": "error",
     "traceback": [
      "\u001b[1;36m  File \u001b[1;32m\"<ipython-input-21-4bceda4c5ba3>\"\u001b[1;36m, line \u001b[1;32m1\u001b[0m\n\u001b[1;33m    Class String():\u001b[0m\n\u001b[1;37m               ^\u001b[0m\n\u001b[1;31mSyntaxError\u001b[0m\u001b[1;31m:\u001b[0m invalid syntax\n"
     ]
    }
   ],
   "source": [
    "\n",
    "\n",
    "class String(x):\n",
    "    def __init__(self):\n",
    "        self.x = input('Input:')\n",
    "     \n",
    "    def getString(self):\n",
    "        self.x = self.x \n",
    "\n",
    "    def printString(self):\n",
    "        \n",
    "        print \n",
    "    "
   ]
  },
  {
   "cell_type": "code",
   "execution_count": null,
   "metadata": {},
   "outputs": [],
   "source": []
  }
 ],
 "metadata": {
  "kernelspec": {
   "display_name": "Python 3",
   "language": "python",
   "name": "python3"
  },
  "language_info": {
   "codemirror_mode": {
    "name": "ipython",
    "version": 3
   },
   "file_extension": ".py",
   "mimetype": "text/x-python",
   "name": "python",
   "nbconvert_exporter": "python",
   "pygments_lexer": "ipython3",
   "version": "3.7.6"
  }
 },
 "nbformat": 4,
 "nbformat_minor": 4
}
